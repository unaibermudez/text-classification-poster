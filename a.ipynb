{
 "cells": [
  {
   "cell_type": "code",
   "execution_count": null,
   "metadata": {},
   "outputs": [],
   "source": [
    "import pandas as pd\n",
    "import nltk\n",
    "from nltk.corpus import stopwords\n",
    "from nltk.tokenize import word_tokenize\n",
    "from nltk.stem import WordNetLemmatizer\n",
    "import string\n",
    "import emoji\n",
    "from sklearn.feature_extraction.text import TfidfVectorizer\n",
    "\n",
    "\n",
    "# Cargar los datos desde el archivo CSV con encoding 'latin1'\n",
    "file_path = 'data/suicidal_data.csv'  # Ajusta la ruta según tu estructura de carpetas\n",
    "df = pd.read_csv(file_path, encoding='latin1')\n",
    "\n",
    "# Imprimir el texto de las primeras 5 instancias\n",
    "print(\"Texto de las primeras 5 instancias:\")\n",
    "print(df['tweet'].head())\n",
    "\n",
    "# Funciones de preprocesamiento\n",
    "def preprocess_text(text):\n",
    "    # Convertir a minúsculas\n",
    "    text = text.lower()\n",
    "    # Manejar emojis\n",
    "    text = emoji.demojize(text)\n",
    "    # Eliminar puntuación\n",
    "    text = text.translate(str.maketrans(\"\", \"\", string.punctuation))\n",
    "    # Tokenización\n",
    "    tokens = word_tokenize(text)\n",
    "    # Eliminar stopwords\n",
    "    stop_words = set(stopwords.words('english'))\n",
    "    tokens = [token for token in tokens if token not in stop_words]\n",
    "    # Lematización\n",
    "    lemmatizer = WordNetLemmatizer()\n",
    "    tokens = [lemmatizer.lemmatize(token) for token in tokens]\n",
    "    return ' '.join(tokens)\n",
    "\n",
    "# Aplicar preprocesamiento a la columna 'tweet'\n",
    "df['processed_tweet'] = df['tweet'].apply(preprocess_text)\n",
    "\n",
    "# Imprimir el texto preprocesado de las primeras 5 instancias\n",
    "print(\"\\nTexto preprocesado de las primeras 5 instancias:\")\n",
    "print(df['processed_tweet'].head())\n",
    "\n",
    "# Vectorización con TF-IDF y Ponderación de Términos por IDF ponderada por TF\n",
    "vectorizer = TfidfVectorizer(use_idf=True)\n",
    "X_tfidf = vectorizer.fit_transform(df['processed_tweet'])\n",
    "\n",
    "# Imprimir el texto vectorizado de las primeras 5 instancias\n",
    "print(\"\\nTexto vectorizado de las primeras 5 instancias:\")\n",
    "print(X_tfidf[:5].toarray())\n"
   ]
  }
 ],
 "metadata": {
  "kernelspec": {
   "display_name": "Python 3",
   "language": "python",
   "name": "python3"
  },
  "language_info": {
   "codemirror_mode": {
    "name": "ipython",
    "version": 3
   },
   "file_extension": ".py",
   "mimetype": "text/x-python",
   "name": "python",
   "nbconvert_exporter": "python",
   "pygments_lexer": "ipython3",
   "version": "3.10.11"
  }
 },
 "nbformat": 4,
 "nbformat_minor": 2
}
